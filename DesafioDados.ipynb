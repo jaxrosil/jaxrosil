{
  "cells": [
    {
      "cell_type": "markdown",
      "source": [
        "#DESAFIO DADOS"
      ],
      "metadata": {
        "id": "jazxRd2v_mT_"
      }
    },
    {
      "cell_type": "markdown",
      "source": [
        "##Download dos arquivos"
      ],
      "metadata": {
        "id": "noKyuDmt_0jQ"
      }
    },
    {
      "cell_type": "code",
      "execution_count": null,
      "metadata": {
        "colab": {
          "base_uri": "https://localhost:8080/"
        },
        "id": "sBxivzzE4dkX",
        "outputId": "86bcbec9-813f-449d-f785-55d88ed95330"
      },
      "outputs": [
        {
          "output_type": "stream",
          "name": "stdout",
          "text": [
            "Requirement already satisfied: selenium in /usr/local/lib/python3.7/dist-packages (4.1.5)\n",
            "Requirement already satisfied: trio-websocket~=0.9 in /usr/local/lib/python3.7/dist-packages (from selenium) (0.9.2)\n",
            "Requirement already satisfied: trio~=0.17 in /usr/local/lib/python3.7/dist-packages (from selenium) (0.20.0)\n",
            "Requirement already satisfied: urllib3[secure,socks]~=1.26 in /usr/local/lib/python3.7/dist-packages (from selenium) (1.26.9)\n",
            "Requirement already satisfied: outcome in /usr/local/lib/python3.7/dist-packages (from trio~=0.17->selenium) (1.1.0)\n",
            "Requirement already satisfied: attrs>=19.2.0 in /usr/local/lib/python3.7/dist-packages (from trio~=0.17->selenium) (21.4.0)\n",
            "Requirement already satisfied: idna in /usr/local/lib/python3.7/dist-packages (from trio~=0.17->selenium) (2.10)\n",
            "Requirement already satisfied: sortedcontainers in /usr/local/lib/python3.7/dist-packages (from trio~=0.17->selenium) (2.4.0)\n",
            "Requirement already satisfied: async-generator>=1.9 in /usr/local/lib/python3.7/dist-packages (from trio~=0.17->selenium) (1.10)\n",
            "Requirement already satisfied: sniffio in /usr/local/lib/python3.7/dist-packages (from trio~=0.17->selenium) (1.2.0)\n",
            "Requirement already satisfied: wsproto>=0.14 in /usr/local/lib/python3.7/dist-packages (from trio-websocket~=0.9->selenium) (1.1.0)\n",
            "Requirement already satisfied: certifi in /usr/local/lib/python3.7/dist-packages (from urllib3[secure,socks]~=1.26->selenium) (2021.10.8)\n",
            "Requirement already satisfied: pyOpenSSL>=0.14 in /usr/local/lib/python3.7/dist-packages (from urllib3[secure,socks]~=1.26->selenium) (22.0.0)\n",
            "Requirement already satisfied: cryptography>=1.3.4 in /usr/local/lib/python3.7/dist-packages (from urllib3[secure,socks]~=1.26->selenium) (37.0.2)\n",
            "Requirement already satisfied: PySocks!=1.5.7,<2.0,>=1.5.6 in /usr/local/lib/python3.7/dist-packages (from urllib3[secure,socks]~=1.26->selenium) (1.7.1)\n",
            "Requirement already satisfied: cffi>=1.12 in /usr/local/lib/python3.7/dist-packages (from cryptography>=1.3.4->urllib3[secure,socks]~=1.26->selenium) (1.15.0)\n",
            "Requirement already satisfied: pycparser in /usr/local/lib/python3.7/dist-packages (from cffi>=1.12->cryptography>=1.3.4->urllib3[secure,socks]~=1.26->selenium) (2.21)\n",
            "Requirement already satisfied: h11<1,>=0.9.0 in /usr/local/lib/python3.7/dist-packages (from wsproto>=0.14->trio-websocket~=0.9->selenium) (0.13.0)\n",
            "Requirement already satisfied: typing-extensions in /usr/local/lib/python3.7/dist-packages (from h11<1,>=0.9.0->wsproto>=0.14->trio-websocket~=0.9->selenium) (4.2.0)\n"
          ]
        }
      ],
      "source": [
        "#Instalação do selenium\n",
        "!pip install selenium "
      ]
    },
    {
      "cell_type": "code",
      "execution_count": null,
      "metadata": {
        "colab": {
          "base_uri": "https://localhost:8080/"
        },
        "id": "Gahi2nmB6p5p",
        "outputId": "752eaafc-8ec7-4612-d729-b2b19828f7cd"
      },
      "outputs": [
        {
          "output_type": "stream",
          "name": "stdout",
          "text": [
            "\r0% [Working]\r            \rHit:1 https://developer.download.nvidia.com/compute/cuda/repos/ubuntu1804/x86_64  InRelease\n",
            "\r0% [Connecting to archive.ubuntu.com] [Connecting to security.ubuntu.com] [Conn\r                                                                               \rHit:2 https://cloud.r-project.org/bin/linux/ubuntu bionic-cran40/ InRelease\n",
            "\r                                                                               \rIgn:3 https://developer.download.nvidia.com/compute/machine-learning/repos/ubuntu1804/x86_64  InRelease\n",
            "Hit:4 https://developer.download.nvidia.com/compute/machine-learning/repos/ubuntu1804/x86_64  Release\n",
            "Hit:5 http://ppa.launchpad.net/c2d4u.team/c2d4u4.0+/ubuntu bionic InRelease\n",
            "Hit:6 http://archive.ubuntu.com/ubuntu bionic InRelease\n",
            "Get:7 http://security.ubuntu.com/ubuntu bionic-security InRelease [88.7 kB]\n",
            "Get:8 http://archive.ubuntu.com/ubuntu bionic-updates InRelease [88.7 kB]\n",
            "Hit:9 http://ppa.launchpad.net/cran/libgit2/ubuntu bionic InRelease\n",
            "Hit:11 http://ppa.launchpad.net/deadsnakes/ppa/ubuntu bionic InRelease\n",
            "Get:12 http://archive.ubuntu.com/ubuntu bionic-backports InRelease [74.6 kB]\n",
            "Hit:13 http://ppa.launchpad.net/graphics-drivers/ppa/ubuntu bionic InRelease\n",
            "Get:14 http://archive.ubuntu.com/ubuntu bionic-updates/restricted amd64 Packages [981 kB]\n",
            "Get:15 http://archive.ubuntu.com/ubuntu bionic-updates/main amd64 Packages [3,212 kB]\n",
            "Fetched 4,445 kB in 3s (1,447 kB/s)\n",
            "Reading package lists... Done\n",
            "Reading package lists... Done\n",
            "Building dependency tree       \n",
            "Reading state information... Done\n",
            "chromium-chromedriver is already the newest version (101.0.4951.64-0ubuntu0.18.04.1).\n",
            "The following package was automatically installed and is no longer required:\n",
            "  libnvidia-common-460\n",
            "Use 'apt autoremove' to remove it.\n",
            "0 upgraded, 0 newly installed, 0 to remove and 48 not upgraded.\n"
          ]
        }
      ],
      "source": [
        "#Instalação do chromedriver\n",
        "!apt-get update\n",
        "!apt install chromium-chromedriver"
      ]
    },
    {
      "cell_type": "code",
      "execution_count": null,
      "metadata": {
        "colab": {
          "base_uri": "https://localhost:8080/"
        },
        "id": "nPwZajPw7Er9",
        "outputId": "51e488f3-b77a-49f1-df1c-7a55f64f80fc"
      },
      "outputs": [
        {
          "output_type": "stream",
          "name": "stderr",
          "text": [
            "/usr/local/lib/python3.7/dist-packages/ipykernel_launcher.py:7: DeprecationWarning:\n",
            "\n",
            "use options instead of chrome_options\n",
            "\n"
          ]
        }
      ],
      "source": [
        "#Configuração do webdriver\n",
        "from selenium import webdriver\n",
        "chrome_options = webdriver.ChromeOptions()\n",
        "chrome_options.add_argument('--headless')\n",
        "chrome_options.add_argument('--no-sandbox')\n",
        "chrome_options.add_argument('--disable-dev-shm-usage')\n",
        "wd_chrome = webdriver.Chrome(chrome_options = chrome_options)"
      ]
    },
    {
      "cell_type": "code",
      "execution_count": null,
      "metadata": {
        "id": "ncWiJizQ9UgC"
      },
      "outputs": [],
      "source": [
        "#Acesso a página fonte\n",
        "wd_chrome.get('http://dados.cvm.gov.br/dataset/fi-doc-inf_diario/resource/8eb8e7b2-27b8-4489-a351-15027385e76b')"
      ]
    },
    {
      "cell_type": "code",
      "execution_count": null,
      "metadata": {
        "id": "4ttX9OcwB3MF"
      },
      "outputs": [],
      "source": [
        "#Biblioteca para esperar o carregamento da página\n",
        "import time"
      ]
    },
    {
      "cell_type": "code",
      "execution_count": null,
      "metadata": {
        "colab": {
          "base_uri": "https://localhost:8080/"
        },
        "id": "xWSFdBaV9st4",
        "outputId": "216d52d3-a2d7-451b-cce2-9fae89495725"
      },
      "outputs": [
        {
          "output_type": "stream",
          "name": "stdout",
          "text": [
            "Mounted at /content/drive/\n"
          ]
        },
        {
          "output_type": "stream",
          "name": "stderr",
          "text": [
            "/usr/local/lib/python3.7/dist-packages/ipykernel_launcher.py:10: DeprecationWarning:\n",
            "\n",
            "find_element_by_xpath is deprecated. Please use find_element(by=By.XPATH, value=xpath) instead\n",
            "\n",
            "/usr/local/lib/python3.7/dist-packages/ipykernel_launcher.py:12: DeprecationWarning:\n",
            "\n",
            "find_element_by_xpath is deprecated. Please use find_element(by=By.XPATH, value=xpath) instead\n",
            "\n"
          ]
        }
      ],
      "source": [
        "#Automação dos downloads\n",
        "from google.colab import drive\n",
        "import os\n",
        "\n",
        "drive.mount('/content/drive/', force_remount=True)\n",
        "dir_name = '/content/'\n",
        "\n",
        "os.chdir(dir_name) \n",
        "\n",
        "for i in range(2,16):\n",
        "  wd_chrome.find_element_by_xpath(f'/html/body/div[2]/div/div[3]/aside/section[1]/ul/li[{i}]/a').click()\n",
        "  time.sleep(3)\n",
        "  wd_chrome.find_element_by_xpath('/html/body/div[2]/div/div[3]/section/div/p/a').click()"
      ]
    },
    {
      "cell_type": "code",
      "execution_count": null,
      "metadata": {
        "colab": {
          "base_uri": "https://localhost:8080/"
        },
        "id": "iOkBRNbGQn9f",
        "outputId": "feabf922-fdff-409e-fe34-60212aab7be8"
      },
      "outputs": [
        {
          "output_type": "stream",
          "name": "stdout",
          "text": [
            "Mounted at /content/drive/\n"
          ]
        }
      ],
      "source": [
        "#Extraindo os arquivos\n",
        "import zipfile\n",
        "from google.colab import drive\n",
        "import os\n",
        "\n",
        "drive.mount('/content/drive/', force_remount=True)\n",
        "\n",
        "dir_name = '/content/'\n",
        "extension = \".zip\"\n",
        "\n",
        "os.chdir(dir_name) \n",
        "\n",
        "for item in os.listdir(dir_name): \n",
        "    if item.endswith(extension): \n",
        "        file_name = os.path.abspath(item) \n",
        "        zip_ref = zipfile.ZipFile(file_name) \n",
        "        zip_ref.extractall(dir_name) \n",
        "        zip_ref.close() \n",
        "        os.remove(file_name)"
      ]
    },
    {
      "cell_type": "markdown",
      "source": [
        "##Manipulação dos dados"
      ],
      "metadata": {
        "id": "SbRLgb9ZAMAR"
      }
    },
    {
      "cell_type": "code",
      "execution_count": null,
      "metadata": {
        "id": "-lqQiMIk6ia5"
      },
      "outputs": [],
      "source": [
        "#Leitura dos arquivos\n",
        "import pandas as pd \n",
        "try:\n",
        "  df2104 = pd.read_csv('/content/inf_diario_fi_202104.csv', sep = \";\")\n",
        "  df2105 = pd.read_csv('/content/inf_diario_fi_202105.csv', sep = \";\")\n",
        "  df2106 = pd.read_csv('/content/inf_diario_fi_202106.csv', sep = \";\")\n",
        "  df2107 = pd.read_csv('/content/inf_diario_fi_202107.csv', sep = \";\")\n",
        "  df2108 = pd.read_csv('/content/inf_diario_fi_202108.csv', sep = \";\")\n",
        "  df2109 = pd.read_csv('/content/inf_diario_fi_202109.csv', sep = \";\")\n",
        "  df2110 = pd.read_csv('/content/inf_diario_fi_202110.csv', sep = \";\")\n",
        "  df2111 = pd.read_csv('/content/inf_diario_fi_202111.csv', sep = \";\")\n",
        "  df2112 = pd.read_csv('/content/inf_diario_fi_202112.csv', sep = \";\")\n",
        "  df2201 = pd.read_csv('/content/inf_diario_fi_202201.csv', sep = \";\")\n",
        "  df2202 = pd.read_csv('/content/inf_diario_fi_202202.csv', sep = \";\")\n",
        "  df2203 = pd.read_csv('/content/inf_diario_fi_202203.csv', sep = \";\")\n",
        "  df2204 = pd.read_csv('/content/inf_diario_fi_202204.csv', sep = \";\")\n",
        "  df2205 = pd.read_csv('/content/inf_diario_fi_202205.csv', sep = \";\")\n",
        "except:\n",
        "  import zipfile\n",
        "  from google.colab import drive\n",
        "  import os\n",
        "\n",
        "  drive.mount('/content/drive/', force_remount=True)\n",
        "\n",
        "  dir_name = '/content/'\n",
        "  extension = \".zip\"\n",
        "\n",
        "  os.chdir(dir_name) \n",
        "\n",
        "  for item in os.listdir(dir_name): \n",
        "      if item.endswith(extension): \n",
        "          file_name = os.path.abspath(item) \n",
        "          zip_ref = zipfile.ZipFile(file_name) \n",
        "          zip_ref.extractall(dir_name) \n",
        "          zip_ref.close() \n",
        "          os.remove(file_name)\n",
        "  df2104 = pd.read_csv('/content/inf_diario_fi_202104.csv', sep = \";\")\n",
        "  df2105 = pd.read_csv('/content/inf_diario_fi_202105.csv', sep = \";\")\n",
        "  df2106 = pd.read_csv('/content/inf_diario_fi_202106.csv', sep = \";\")\n",
        "  df2107 = pd.read_csv('/content/inf_diario_fi_202107.csv', sep = \";\")\n",
        "  df2108 = pd.read_csv('/content/inf_diario_fi_202108.csv', sep = \";\")\n",
        "  df2109 = pd.read_csv('/content/inf_diario_fi_202109.csv', sep = \";\")\n",
        "  df2110 = pd.read_csv('/content/inf_diario_fi_202110.csv', sep = \";\")\n",
        "  df2111 = pd.read_csv('/content/inf_diario_fi_202111.csv', sep = \";\")\n",
        "  df2112 = pd.read_csv('/content/inf_diario_fi_202112.csv', sep = \";\")\n",
        "  df2201 = pd.read_csv('/content/inf_diario_fi_202201.csv', sep = \";\")\n",
        "  df2202 = pd.read_csv('/content/inf_diario_fi_202202.csv', sep = \";\")\n",
        "  df2203 = pd.read_csv('/content/inf_diario_fi_202203.csv', sep = \";\")\n",
        "  df2204 = pd.read_csv('/content/inf_diario_fi_202204.csv', sep = \";\")\n",
        "  df2205 = pd.read_csv('/content/inf_diario_fi_202205.csv', sep = \";\")\n"
      ]
    },
    {
      "cell_type": "code",
      "execution_count": null,
      "metadata": {
        "id": "IYByZWRa7ZHB"
      },
      "outputs": [],
      "source": [
        "#Classificação dos arquivos por mês\n",
        "df2104[\"PERÍODO\"] = \"abr/21\"\n",
        "df2105[\"PERÍODO\"] = \"mai/21\"\n",
        "df2106[\"PERÍODO\"] = \"jun/21\"\n",
        "df2107[\"PERÍODO\"] = \"jul/21\"\n",
        "df2108[\"PERÍODO\"] = \"ago/21\"\n",
        "df2109[\"PERÍODO\"] = \"set/21\"\n",
        "df2110[\"PERÍODO\"] = \"out/21\"\n",
        "df2111[\"PERÍODO\"] = \"nov/21\"\n",
        "df2112[\"PERÍODO\"] = \"dez/21\"\n",
        "df2201[\"PERÍODO\"] = \"jan/22\"\n",
        "df2202[\"PERÍODO\"] = \"fev/22\"\n",
        "df2203[\"PERÍODO\"] = \"mar/22\"\n",
        "df2204[\"PERÍODO\"] = \"abr/22\"\n",
        "df2205[\"PERÍODO\"] = \"mai/22\""
      ]
    },
    {
      "cell_type": "code",
      "execution_count": null,
      "metadata": {
        "id": "k7aOpWNh9Fce"
      },
      "outputs": [],
      "source": [
        "#Concatenação dos dataframes\n",
        "df = pd.concat([df2104, df2105, df2106, df2107, df2108, df2109, df2110, df2111, df2112, df2201, df2202, df2203, df2204, df2205])"
      ]
    },
    {
      "cell_type": "code",
      "execution_count": null,
      "metadata": {
        "id": "ZxCIJRMs_BoJ"
      },
      "outputs": [],
      "source": [
        "#Reset dos índices\n",
        "df.reset_index(drop=True, inplace=True)"
      ]
    },
    {
      "cell_type": "code",
      "execution_count": null,
      "metadata": {
        "colab": {
          "base_uri": "https://localhost:8080/",
          "height": 563
        },
        "id": "afFRWG-J1-b1",
        "outputId": "6cfeedbe-c059-49e2-c07a-5017f20c6657"
      },
      "outputs": [
        {
          "output_type": "stream",
          "name": "stderr",
          "text": [
            "/usr/local/lib/python3.7/dist-packages/ipykernel_launcher.py:5: SettingWithCopyWarning:\n",
            "\n",
            "\n",
            "A value is trying to be set on a copy of a slice from a DataFrame.\n",
            "Try using .loc[row_indexer,col_indexer] = value instead\n",
            "\n",
            "See the caveats in the documentation: https://pandas.pydata.org/pandas-docs/stable/user_guide/indexing.html#returning-a-view-versus-a-copy\n",
            "\n"
          ]
        },
        {
          "output_type": "execute_result",
          "data": {
            "text/plain": [
              "        TP_FUNDO          CNPJ_FUNDO   DT_COMPTC    VL_TOTAL   VL_QUOTA  \\\n",
              "0             FI  00.017.024/0001-53  2021-04-01  1088904.80  27.504407   \n",
              "1             FI  00.017.024/0001-53  2021-04-05  1088923.79  27.502861   \n",
              "2             FI  00.017.024/0001-53  2021-04-06  1089003.01  27.501041   \n",
              "3             FI  00.017.024/0001-53  2021-04-07  1089089.05  27.500790   \n",
              "4             FI  00.017.024/0001-53  2021-04-08  1088882.96  27.500713   \n",
              "...          ...                 ...         ...         ...        ...   \n",
              "5972696       FI  00.017.024/0001-53  2022-05-13  1043389.19  28.975379   \n",
              "5972697       FI  00.017.024/0001-53  2022-05-16  1043899.40  28.987605   \n",
              "5972698       FI  00.017.024/0001-53  2022-05-17  1044422.73  28.999582   \n",
              "5972699       FI  00.017.024/0001-53  2022-05-18  1044944.71  29.011917   \n",
              "5972700       FI  00.017.024/0001-53  2022-05-19  1045476.55  29.024194   \n",
              "\n",
              "         VL_PATRIM_LIQ  CAPTC_DIA  RESG_DIA  NR_COTST PERÍODO  RENDIMENTO  \n",
              "0           1085588.59        0.0       0.0         1  abr/21    0.000000  \n",
              "1           1085527.59        0.0       0.0         1  abr/21   -0.000056  \n",
              "2           1085455.76        0.0       0.0         1  abr/21   -0.000066  \n",
              "3           1085445.85        0.0       0.0         1  abr/21   -0.000009  \n",
              "4           1085442.80        0.0       0.0         1  abr/21   -0.000003  \n",
              "...                ...        ...       ...       ...     ...         ...  \n",
              "5972696     1053376.16        0.0       0.0         1  mai/22    0.000422  \n",
              "5972697     1053820.60        0.0       0.0         1  mai/22    0.000422  \n",
              "5972698     1054256.02        0.0       0.0         1  mai/22    0.000413  \n",
              "5972699     1054704.46        0.0       0.0         1  mai/22    0.000425  \n",
              "5972700     1055150.78        0.0       0.0         1  mai/22    0.000423  \n",
              "\n",
              "[285 rows x 11 columns]"
            ],
            "text/html": [
              "\n",
              "  <div id=\"df-a50608b0-06e4-4b6a-ae82-3c94273bda89\">\n",
              "    <div class=\"colab-df-container\">\n",
              "      <div>\n",
              "<style scoped>\n",
              "    .dataframe tbody tr th:only-of-type {\n",
              "        vertical-align: middle;\n",
              "    }\n",
              "\n",
              "    .dataframe tbody tr th {\n",
              "        vertical-align: top;\n",
              "    }\n",
              "\n",
              "    .dataframe thead th {\n",
              "        text-align: right;\n",
              "    }\n",
              "</style>\n",
              "<table border=\"1\" class=\"dataframe\">\n",
              "  <thead>\n",
              "    <tr style=\"text-align: right;\">\n",
              "      <th></th>\n",
              "      <th>TP_FUNDO</th>\n",
              "      <th>CNPJ_FUNDO</th>\n",
              "      <th>DT_COMPTC</th>\n",
              "      <th>VL_TOTAL</th>\n",
              "      <th>VL_QUOTA</th>\n",
              "      <th>VL_PATRIM_LIQ</th>\n",
              "      <th>CAPTC_DIA</th>\n",
              "      <th>RESG_DIA</th>\n",
              "      <th>NR_COTST</th>\n",
              "      <th>PERÍODO</th>\n",
              "      <th>RENDIMENTO</th>\n",
              "    </tr>\n",
              "  </thead>\n",
              "  <tbody>\n",
              "    <tr>\n",
              "      <th>0</th>\n",
              "      <td>FI</td>\n",
              "      <td>00.017.024/0001-53</td>\n",
              "      <td>2021-04-01</td>\n",
              "      <td>1088904.80</td>\n",
              "      <td>27.504407</td>\n",
              "      <td>1085588.59</td>\n",
              "      <td>0.0</td>\n",
              "      <td>0.0</td>\n",
              "      <td>1</td>\n",
              "      <td>abr/21</td>\n",
              "      <td>0.000000</td>\n",
              "    </tr>\n",
              "    <tr>\n",
              "      <th>1</th>\n",
              "      <td>FI</td>\n",
              "      <td>00.017.024/0001-53</td>\n",
              "      <td>2021-04-05</td>\n",
              "      <td>1088923.79</td>\n",
              "      <td>27.502861</td>\n",
              "      <td>1085527.59</td>\n",
              "      <td>0.0</td>\n",
              "      <td>0.0</td>\n",
              "      <td>1</td>\n",
              "      <td>abr/21</td>\n",
              "      <td>-0.000056</td>\n",
              "    </tr>\n",
              "    <tr>\n",
              "      <th>2</th>\n",
              "      <td>FI</td>\n",
              "      <td>00.017.024/0001-53</td>\n",
              "      <td>2021-04-06</td>\n",
              "      <td>1089003.01</td>\n",
              "      <td>27.501041</td>\n",
              "      <td>1085455.76</td>\n",
              "      <td>0.0</td>\n",
              "      <td>0.0</td>\n",
              "      <td>1</td>\n",
              "      <td>abr/21</td>\n",
              "      <td>-0.000066</td>\n",
              "    </tr>\n",
              "    <tr>\n",
              "      <th>3</th>\n",
              "      <td>FI</td>\n",
              "      <td>00.017.024/0001-53</td>\n",
              "      <td>2021-04-07</td>\n",
              "      <td>1089089.05</td>\n",
              "      <td>27.500790</td>\n",
              "      <td>1085445.85</td>\n",
              "      <td>0.0</td>\n",
              "      <td>0.0</td>\n",
              "      <td>1</td>\n",
              "      <td>abr/21</td>\n",
              "      <td>-0.000009</td>\n",
              "    </tr>\n",
              "    <tr>\n",
              "      <th>4</th>\n",
              "      <td>FI</td>\n",
              "      <td>00.017.024/0001-53</td>\n",
              "      <td>2021-04-08</td>\n",
              "      <td>1088882.96</td>\n",
              "      <td>27.500713</td>\n",
              "      <td>1085442.80</td>\n",
              "      <td>0.0</td>\n",
              "      <td>0.0</td>\n",
              "      <td>1</td>\n",
              "      <td>abr/21</td>\n",
              "      <td>-0.000003</td>\n",
              "    </tr>\n",
              "    <tr>\n",
              "      <th>...</th>\n",
              "      <td>...</td>\n",
              "      <td>...</td>\n",
              "      <td>...</td>\n",
              "      <td>...</td>\n",
              "      <td>...</td>\n",
              "      <td>...</td>\n",
              "      <td>...</td>\n",
              "      <td>...</td>\n",
              "      <td>...</td>\n",
              "      <td>...</td>\n",
              "      <td>...</td>\n",
              "    </tr>\n",
              "    <tr>\n",
              "      <th>5972696</th>\n",
              "      <td>FI</td>\n",
              "      <td>00.017.024/0001-53</td>\n",
              "      <td>2022-05-13</td>\n",
              "      <td>1043389.19</td>\n",
              "      <td>28.975379</td>\n",
              "      <td>1053376.16</td>\n",
              "      <td>0.0</td>\n",
              "      <td>0.0</td>\n",
              "      <td>1</td>\n",
              "      <td>mai/22</td>\n",
              "      <td>0.000422</td>\n",
              "    </tr>\n",
              "    <tr>\n",
              "      <th>5972697</th>\n",
              "      <td>FI</td>\n",
              "      <td>00.017.024/0001-53</td>\n",
              "      <td>2022-05-16</td>\n",
              "      <td>1043899.40</td>\n",
              "      <td>28.987605</td>\n",
              "      <td>1053820.60</td>\n",
              "      <td>0.0</td>\n",
              "      <td>0.0</td>\n",
              "      <td>1</td>\n",
              "      <td>mai/22</td>\n",
              "      <td>0.000422</td>\n",
              "    </tr>\n",
              "    <tr>\n",
              "      <th>5972698</th>\n",
              "      <td>FI</td>\n",
              "      <td>00.017.024/0001-53</td>\n",
              "      <td>2022-05-17</td>\n",
              "      <td>1044422.73</td>\n",
              "      <td>28.999582</td>\n",
              "      <td>1054256.02</td>\n",
              "      <td>0.0</td>\n",
              "      <td>0.0</td>\n",
              "      <td>1</td>\n",
              "      <td>mai/22</td>\n",
              "      <td>0.000413</td>\n",
              "    </tr>\n",
              "    <tr>\n",
              "      <th>5972699</th>\n",
              "      <td>FI</td>\n",
              "      <td>00.017.024/0001-53</td>\n",
              "      <td>2022-05-18</td>\n",
              "      <td>1044944.71</td>\n",
              "      <td>29.011917</td>\n",
              "      <td>1054704.46</td>\n",
              "      <td>0.0</td>\n",
              "      <td>0.0</td>\n",
              "      <td>1</td>\n",
              "      <td>mai/22</td>\n",
              "      <td>0.000425</td>\n",
              "    </tr>\n",
              "    <tr>\n",
              "      <th>5972700</th>\n",
              "      <td>FI</td>\n",
              "      <td>00.017.024/0001-53</td>\n",
              "      <td>2022-05-19</td>\n",
              "      <td>1045476.55</td>\n",
              "      <td>29.024194</td>\n",
              "      <td>1055150.78</td>\n",
              "      <td>0.0</td>\n",
              "      <td>0.0</td>\n",
              "      <td>1</td>\n",
              "      <td>mai/22</td>\n",
              "      <td>0.000423</td>\n",
              "    </tr>\n",
              "  </tbody>\n",
              "</table>\n",
              "<p>285 rows × 11 columns</p>\n",
              "</div>\n",
              "      <button class=\"colab-df-convert\" onclick=\"convertToInteractive('df-a50608b0-06e4-4b6a-ae82-3c94273bda89')\"\n",
              "              title=\"Convert this dataframe to an interactive table.\"\n",
              "              style=\"display:none;\">\n",
              "        \n",
              "  <svg xmlns=\"http://www.w3.org/2000/svg\" height=\"24px\"viewBox=\"0 0 24 24\"\n",
              "       width=\"24px\">\n",
              "    <path d=\"M0 0h24v24H0V0z\" fill=\"none\"/>\n",
              "    <path d=\"M18.56 5.44l.94 2.06.94-2.06 2.06-.94-2.06-.94-.94-2.06-.94 2.06-2.06.94zm-11 1L8.5 8.5l.94-2.06 2.06-.94-2.06-.94L8.5 2.5l-.94 2.06-2.06.94zm10 10l.94 2.06.94-2.06 2.06-.94-2.06-.94-.94-2.06-.94 2.06-2.06.94z\"/><path d=\"M17.41 7.96l-1.37-1.37c-.4-.4-.92-.59-1.43-.59-.52 0-1.04.2-1.43.59L10.3 9.45l-7.72 7.72c-.78.78-.78 2.05 0 2.83L4 21.41c.39.39.9.59 1.41.59.51 0 1.02-.2 1.41-.59l7.78-7.78 2.81-2.81c.8-.78.8-2.07 0-2.86zM5.41 20L4 18.59l7.72-7.72 1.47 1.35L5.41 20z\"/>\n",
              "  </svg>\n",
              "      </button>\n",
              "      \n",
              "  <style>\n",
              "    .colab-df-container {\n",
              "      display:flex;\n",
              "      flex-wrap:wrap;\n",
              "      gap: 12px;\n",
              "    }\n",
              "\n",
              "    .colab-df-convert {\n",
              "      background-color: #E8F0FE;\n",
              "      border: none;\n",
              "      border-radius: 50%;\n",
              "      cursor: pointer;\n",
              "      display: none;\n",
              "      fill: #1967D2;\n",
              "      height: 32px;\n",
              "      padding: 0 0 0 0;\n",
              "      width: 32px;\n",
              "    }\n",
              "\n",
              "    .colab-df-convert:hover {\n",
              "      background-color: #E2EBFA;\n",
              "      box-shadow: 0px 1px 2px rgba(60, 64, 67, 0.3), 0px 1px 3px 1px rgba(60, 64, 67, 0.15);\n",
              "      fill: #174EA6;\n",
              "    }\n",
              "\n",
              "    [theme=dark] .colab-df-convert {\n",
              "      background-color: #3B4455;\n",
              "      fill: #D2E3FC;\n",
              "    }\n",
              "\n",
              "    [theme=dark] .colab-df-convert:hover {\n",
              "      background-color: #434B5C;\n",
              "      box-shadow: 0px 1px 3px 1px rgba(0, 0, 0, 0.15);\n",
              "      filter: drop-shadow(0px 1px 2px rgba(0, 0, 0, 0.3));\n",
              "      fill: #FFFFFF;\n",
              "    }\n",
              "  </style>\n",
              "\n",
              "      <script>\n",
              "        const buttonEl =\n",
              "          document.querySelector('#df-a50608b0-06e4-4b6a-ae82-3c94273bda89 button.colab-df-convert');\n",
              "        buttonEl.style.display =\n",
              "          google.colab.kernel.accessAllowed ? 'block' : 'none';\n",
              "\n",
              "        async function convertToInteractive(key) {\n",
              "          const element = document.querySelector('#df-a50608b0-06e4-4b6a-ae82-3c94273bda89');\n",
              "          const dataTable =\n",
              "            await google.colab.kernel.invokeFunction('convertToInteractive',\n",
              "                                                     [key], {});\n",
              "          if (!dataTable) return;\n",
              "\n",
              "          const docLinkHtml = 'Like what you see? Visit the ' +\n",
              "            '<a target=\"_blank\" href=https://colab.research.google.com/notebooks/data_table.ipynb>data table notebook</a>'\n",
              "            + ' to learn more about interactive tables.';\n",
              "          element.innerHTML = '';\n",
              "          dataTable['output_type'] = 'display_data';\n",
              "          await google.colab.output.renderOutput(dataTable, element);\n",
              "          const docLink = document.createElement('div');\n",
              "          docLink.innerHTML = docLinkHtml;\n",
              "          element.appendChild(docLink);\n",
              "        }\n",
              "      </script>\n",
              "    </div>\n",
              "  </div>\n",
              "  "
            ]
          },
          "metadata": {},
          "execution_count": 123
        }
      ],
      "source": [
        "#Query de única pessoa jurídica\n",
        "df_cnpj = df.query(\"CNPJ_FUNDO == '00.017.024/0001-53'\")\n",
        "#Cálculo do rendimento\n",
        "df_diff = df_cnpj[[\"VL_PATRIM_LIQ\"]].diff().fillna(0)\n",
        "rendimento = df_diff[\"VL_PATRIM_LIQ\"]/(df_cnpj[\"VL_PATRIM_LIQ\"]-df_diff[\"VL_PATRIM_LIQ\"])\n",
        "df_cnpj[\"RENDIMENTO\"] = rendimento\n"
      ]
    },
    {
      "cell_type": "code",
      "source": [
        "#Preenchimento de NaN com 0\n",
        "df_cnpj[\"RENDIMENTO\"] = df_cnpj[\"RENDIMENTO\"].fillna(0)"
      ],
      "metadata": {
        "id": "72RZ-zjfVceo",
        "colab": {
          "base_uri": "https://localhost:8080/"
        },
        "outputId": "b1b1f0a2-4ff6-4b05-f706-efbbcd673e3d"
      },
      "execution_count": null,
      "outputs": [
        {
          "output_type": "stream",
          "name": "stderr",
          "text": [
            "/usr/local/lib/python3.7/dist-packages/ipykernel_launcher.py:1: SettingWithCopyWarning:\n",
            "\n",
            "\n",
            "A value is trying to be set on a copy of a slice from a DataFrame.\n",
            "Try using .loc[row_indexer,col_indexer] = value instead\n",
            "\n",
            "See the caveats in the documentation: https://pandas.pydata.org/pandas-docs/stable/user_guide/indexing.html#returning-a-view-versus-a-copy\n",
            "\n"
          ]
        }
      ]
    },
    {
      "cell_type": "code",
      "source": [
        "#Remoção dos outliers no rendimento\n",
        "rendimento_sem_outlier = df_cnpj[\"RENDIMENTO\"]\n",
        "Q1 = rendimento_sem_outlier.quantile(.25)\n",
        "Q3 = rendimento_sem_outlier.quantile(.75)\n",
        "IIQ = Q3 - Q1\n",
        "limite_inferior = Q1 - 1.5*IIQ\n",
        "limite_superior = Q3 + 1.5*IIQ\n",
        "rendimento_sem_outlier = (rendimento_sem_outlier >= limite_inferior) & (rendimento_sem_outlier <= limite_superior)\n",
        "rendimento_sem_outlier = df_cnpj[rendimento_sem_outlier]\n"
      ],
      "metadata": {
        "id": "hJZY8-C0c6Df"
      },
      "execution_count": null,
      "outputs": []
    },
    {
      "cell_type": "code",
      "execution_count": null,
      "metadata": {
        "colab": {
          "base_uri": "https://localhost:8080/",
          "height": 488
        },
        "id": "E66NubR4G1kZ",
        "outputId": "cb848e02-f145-4db8-927d-5f2eaa7eb147"
      },
      "outputs": [
        {
          "output_type": "execute_result",
          "data": {
            "text/plain": [
              "   PERÍODO      VL_TOTAL      VL_QUOTA  VL_PATRIM_LIQ     CAPTC_DIA  \\\n",
              "0   abr/21  4.429132e+08  17096.981721   4.421590e+08  2.971534e+06   \n",
              "1   mai/21  4.398071e+08  16994.360911   4.392410e+08  2.911876e+06   \n",
              "2   jun/21  4.407098e+08  16752.201074   4.400161e+08  3.101061e+06   \n",
              "3   jul/21  4.398802e+08  16464.902098   4.396071e+08  2.859466e+06   \n",
              "4   ago/21  4.349993e+08  16288.259256   4.349052e+08  3.087161e+06   \n",
              "5   set/21  4.316644e+08  16410.174185   4.315091e+08  3.059738e+06   \n",
              "6   out/21  4.273063e+08  16028.168605   4.272129e+08  2.817527e+06   \n",
              "7   nov/21  4.212056e+08  15899.696192   4.210290e+08  3.004233e+06   \n",
              "8   dez/21  4.152986e+08  15607.223713   4.153463e+08  3.148975e+06   \n",
              "9   jan/22  4.133368e+08  16299.397184   4.129785e+08  2.853643e+06   \n",
              "10  fev/22  4.154985e+08  16486.698788   4.153098e+08  2.986026e+06   \n",
              "11  mar/22  4.162884e+08  15882.722935   4.159582e+08  2.934071e+06   \n",
              "12  abr/22  4.185028e+08  15682.498125   4.181166e+08  2.939384e+06   \n",
              "13  mai/22  4.124010e+08  15501.070143   4.121341e+08  2.859580e+06   \n",
              "\n",
              "        RESG_DIA     NR_COTST  RENDIMENTO  \n",
              "0   2.884276e+06  1090.808908         NaN  \n",
              "1   2.757833e+06  1087.496358         NaN  \n",
              "2   2.925951e+06  1084.773028         NaN  \n",
              "3   2.673406e+06  1081.698978         NaN  \n",
              "4   2.884976e+06  1077.080964         NaN  \n",
              "5   2.986369e+06  1069.767705         NaN  \n",
              "6   2.863204e+06  1063.623110         NaN  \n",
              "7   2.930861e+06  1056.992792         NaN  \n",
              "8   3.364134e+06  1051.884881         NaN  \n",
              "9   2.832264e+06  1045.656571         NaN  \n",
              "10  3.005503e+06  1045.979315         NaN  \n",
              "11  2.911696e+06  1041.875573         NaN  \n",
              "12  2.949144e+06  1022.181087         NaN  \n",
              "13  2.618901e+06  1004.529981         NaN  "
            ],
            "text/html": [
              "\n",
              "  <div id=\"df-67c21dd4-c827-41f2-8d86-7a1dbd01de90\">\n",
              "    <div class=\"colab-df-container\">\n",
              "      <div>\n",
              "<style scoped>\n",
              "    .dataframe tbody tr th:only-of-type {\n",
              "        vertical-align: middle;\n",
              "    }\n",
              "\n",
              "    .dataframe tbody tr th {\n",
              "        vertical-align: top;\n",
              "    }\n",
              "\n",
              "    .dataframe thead th {\n",
              "        text-align: right;\n",
              "    }\n",
              "</style>\n",
              "<table border=\"1\" class=\"dataframe\">\n",
              "  <thead>\n",
              "    <tr style=\"text-align: right;\">\n",
              "      <th></th>\n",
              "      <th>PERÍODO</th>\n",
              "      <th>VL_TOTAL</th>\n",
              "      <th>VL_QUOTA</th>\n",
              "      <th>VL_PATRIM_LIQ</th>\n",
              "      <th>CAPTC_DIA</th>\n",
              "      <th>RESG_DIA</th>\n",
              "      <th>NR_COTST</th>\n",
              "      <th>RENDIMENTO</th>\n",
              "    </tr>\n",
              "  </thead>\n",
              "  <tbody>\n",
              "    <tr>\n",
              "      <th>0</th>\n",
              "      <td>abr/21</td>\n",
              "      <td>4.429132e+08</td>\n",
              "      <td>17096.981721</td>\n",
              "      <td>4.421590e+08</td>\n",
              "      <td>2.971534e+06</td>\n",
              "      <td>2.884276e+06</td>\n",
              "      <td>1090.808908</td>\n",
              "      <td>NaN</td>\n",
              "    </tr>\n",
              "    <tr>\n",
              "      <th>1</th>\n",
              "      <td>mai/21</td>\n",
              "      <td>4.398071e+08</td>\n",
              "      <td>16994.360911</td>\n",
              "      <td>4.392410e+08</td>\n",
              "      <td>2.911876e+06</td>\n",
              "      <td>2.757833e+06</td>\n",
              "      <td>1087.496358</td>\n",
              "      <td>NaN</td>\n",
              "    </tr>\n",
              "    <tr>\n",
              "      <th>2</th>\n",
              "      <td>jun/21</td>\n",
              "      <td>4.407098e+08</td>\n",
              "      <td>16752.201074</td>\n",
              "      <td>4.400161e+08</td>\n",
              "      <td>3.101061e+06</td>\n",
              "      <td>2.925951e+06</td>\n",
              "      <td>1084.773028</td>\n",
              "      <td>NaN</td>\n",
              "    </tr>\n",
              "    <tr>\n",
              "      <th>3</th>\n",
              "      <td>jul/21</td>\n",
              "      <td>4.398802e+08</td>\n",
              "      <td>16464.902098</td>\n",
              "      <td>4.396071e+08</td>\n",
              "      <td>2.859466e+06</td>\n",
              "      <td>2.673406e+06</td>\n",
              "      <td>1081.698978</td>\n",
              "      <td>NaN</td>\n",
              "    </tr>\n",
              "    <tr>\n",
              "      <th>4</th>\n",
              "      <td>ago/21</td>\n",
              "      <td>4.349993e+08</td>\n",
              "      <td>16288.259256</td>\n",
              "      <td>4.349052e+08</td>\n",
              "      <td>3.087161e+06</td>\n",
              "      <td>2.884976e+06</td>\n",
              "      <td>1077.080964</td>\n",
              "      <td>NaN</td>\n",
              "    </tr>\n",
              "    <tr>\n",
              "      <th>5</th>\n",
              "      <td>set/21</td>\n",
              "      <td>4.316644e+08</td>\n",
              "      <td>16410.174185</td>\n",
              "      <td>4.315091e+08</td>\n",
              "      <td>3.059738e+06</td>\n",
              "      <td>2.986369e+06</td>\n",
              "      <td>1069.767705</td>\n",
              "      <td>NaN</td>\n",
              "    </tr>\n",
              "    <tr>\n",
              "      <th>6</th>\n",
              "      <td>out/21</td>\n",
              "      <td>4.273063e+08</td>\n",
              "      <td>16028.168605</td>\n",
              "      <td>4.272129e+08</td>\n",
              "      <td>2.817527e+06</td>\n",
              "      <td>2.863204e+06</td>\n",
              "      <td>1063.623110</td>\n",
              "      <td>NaN</td>\n",
              "    </tr>\n",
              "    <tr>\n",
              "      <th>7</th>\n",
              "      <td>nov/21</td>\n",
              "      <td>4.212056e+08</td>\n",
              "      <td>15899.696192</td>\n",
              "      <td>4.210290e+08</td>\n",
              "      <td>3.004233e+06</td>\n",
              "      <td>2.930861e+06</td>\n",
              "      <td>1056.992792</td>\n",
              "      <td>NaN</td>\n",
              "    </tr>\n",
              "    <tr>\n",
              "      <th>8</th>\n",
              "      <td>dez/21</td>\n",
              "      <td>4.152986e+08</td>\n",
              "      <td>15607.223713</td>\n",
              "      <td>4.153463e+08</td>\n",
              "      <td>3.148975e+06</td>\n",
              "      <td>3.364134e+06</td>\n",
              "      <td>1051.884881</td>\n",
              "      <td>NaN</td>\n",
              "    </tr>\n",
              "    <tr>\n",
              "      <th>9</th>\n",
              "      <td>jan/22</td>\n",
              "      <td>4.133368e+08</td>\n",
              "      <td>16299.397184</td>\n",
              "      <td>4.129785e+08</td>\n",
              "      <td>2.853643e+06</td>\n",
              "      <td>2.832264e+06</td>\n",
              "      <td>1045.656571</td>\n",
              "      <td>NaN</td>\n",
              "    </tr>\n",
              "    <tr>\n",
              "      <th>10</th>\n",
              "      <td>fev/22</td>\n",
              "      <td>4.154985e+08</td>\n",
              "      <td>16486.698788</td>\n",
              "      <td>4.153098e+08</td>\n",
              "      <td>2.986026e+06</td>\n",
              "      <td>3.005503e+06</td>\n",
              "      <td>1045.979315</td>\n",
              "      <td>NaN</td>\n",
              "    </tr>\n",
              "    <tr>\n",
              "      <th>11</th>\n",
              "      <td>mar/22</td>\n",
              "      <td>4.162884e+08</td>\n",
              "      <td>15882.722935</td>\n",
              "      <td>4.159582e+08</td>\n",
              "      <td>2.934071e+06</td>\n",
              "      <td>2.911696e+06</td>\n",
              "      <td>1041.875573</td>\n",
              "      <td>NaN</td>\n",
              "    </tr>\n",
              "    <tr>\n",
              "      <th>12</th>\n",
              "      <td>abr/22</td>\n",
              "      <td>4.185028e+08</td>\n",
              "      <td>15682.498125</td>\n",
              "      <td>4.181166e+08</td>\n",
              "      <td>2.939384e+06</td>\n",
              "      <td>2.949144e+06</td>\n",
              "      <td>1022.181087</td>\n",
              "      <td>NaN</td>\n",
              "    </tr>\n",
              "    <tr>\n",
              "      <th>13</th>\n",
              "      <td>mai/22</td>\n",
              "      <td>4.124010e+08</td>\n",
              "      <td>15501.070143</td>\n",
              "      <td>4.121341e+08</td>\n",
              "      <td>2.859580e+06</td>\n",
              "      <td>2.618901e+06</td>\n",
              "      <td>1004.529981</td>\n",
              "      <td>NaN</td>\n",
              "    </tr>\n",
              "  </tbody>\n",
              "</table>\n",
              "</div>\n",
              "      <button class=\"colab-df-convert\" onclick=\"convertToInteractive('df-67c21dd4-c827-41f2-8d86-7a1dbd01de90')\"\n",
              "              title=\"Convert this dataframe to an interactive table.\"\n",
              "              style=\"display:none;\">\n",
              "        \n",
              "  <svg xmlns=\"http://www.w3.org/2000/svg\" height=\"24px\"viewBox=\"0 0 24 24\"\n",
              "       width=\"24px\">\n",
              "    <path d=\"M0 0h24v24H0V0z\" fill=\"none\"/>\n",
              "    <path d=\"M18.56 5.44l.94 2.06.94-2.06 2.06-.94-2.06-.94-.94-2.06-.94 2.06-2.06.94zm-11 1L8.5 8.5l.94-2.06 2.06-.94-2.06-.94L8.5 2.5l-.94 2.06-2.06.94zm10 10l.94 2.06.94-2.06 2.06-.94-2.06-.94-.94-2.06-.94 2.06-2.06.94z\"/><path d=\"M17.41 7.96l-1.37-1.37c-.4-.4-.92-.59-1.43-.59-.52 0-1.04.2-1.43.59L10.3 9.45l-7.72 7.72c-.78.78-.78 2.05 0 2.83L4 21.41c.39.39.9.59 1.41.59.51 0 1.02-.2 1.41-.59l7.78-7.78 2.81-2.81c.8-.78.8-2.07 0-2.86zM5.41 20L4 18.59l7.72-7.72 1.47 1.35L5.41 20z\"/>\n",
              "  </svg>\n",
              "      </button>\n",
              "      \n",
              "  <style>\n",
              "    .colab-df-container {\n",
              "      display:flex;\n",
              "      flex-wrap:wrap;\n",
              "      gap: 12px;\n",
              "    }\n",
              "\n",
              "    .colab-df-convert {\n",
              "      background-color: #E8F0FE;\n",
              "      border: none;\n",
              "      border-radius: 50%;\n",
              "      cursor: pointer;\n",
              "      display: none;\n",
              "      fill: #1967D2;\n",
              "      height: 32px;\n",
              "      padding: 0 0 0 0;\n",
              "      width: 32px;\n",
              "    }\n",
              "\n",
              "    .colab-df-convert:hover {\n",
              "      background-color: #E2EBFA;\n",
              "      box-shadow: 0px 1px 2px rgba(60, 64, 67, 0.3), 0px 1px 3px 1px rgba(60, 64, 67, 0.15);\n",
              "      fill: #174EA6;\n",
              "    }\n",
              "\n",
              "    [theme=dark] .colab-df-convert {\n",
              "      background-color: #3B4455;\n",
              "      fill: #D2E3FC;\n",
              "    }\n",
              "\n",
              "    [theme=dark] .colab-df-convert:hover {\n",
              "      background-color: #434B5C;\n",
              "      box-shadow: 0px 1px 3px 1px rgba(0, 0, 0, 0.15);\n",
              "      filter: drop-shadow(0px 1px 2px rgba(0, 0, 0, 0.3));\n",
              "      fill: #FFFFFF;\n",
              "    }\n",
              "  </style>\n",
              "\n",
              "      <script>\n",
              "        const buttonEl =\n",
              "          document.querySelector('#df-67c21dd4-c827-41f2-8d86-7a1dbd01de90 button.colab-df-convert');\n",
              "        buttonEl.style.display =\n",
              "          google.colab.kernel.accessAllowed ? 'block' : 'none';\n",
              "\n",
              "        async function convertToInteractive(key) {\n",
              "          const element = document.querySelector('#df-67c21dd4-c827-41f2-8d86-7a1dbd01de90');\n",
              "          const dataTable =\n",
              "            await google.colab.kernel.invokeFunction('convertToInteractive',\n",
              "                                                     [key], {});\n",
              "          if (!dataTable) return;\n",
              "\n",
              "          const docLinkHtml = 'Like what you see? Visit the ' +\n",
              "            '<a target=\"_blank\" href=https://colab.research.google.com/notebooks/data_table.ipynb>data table notebook</a>'\n",
              "            + ' to learn more about interactive tables.';\n",
              "          element.innerHTML = '';\n",
              "          dataTable['output_type'] = 'display_data';\n",
              "          await google.colab.output.renderOutput(dataTable, element);\n",
              "          const docLink = document.createElement('div');\n",
              "          docLink.innerHTML = docLinkHtml;\n",
              "          element.appendChild(docLink);\n",
              "        }\n",
              "      </script>\n",
              "    </div>\n",
              "  </div>\n",
              "  "
            ]
          },
          "metadata": {},
          "execution_count": 108
        }
      ],
      "source": [
        "#Agrupamento por período e média\n",
        "df_por_periodo = df.groupby([\"PERÍODO\"], sort=False, as_index=False).mean()"
      ]
    },
    {
      "cell_type": "markdown",
      "source": [
        "##Dashboards"
      ],
      "metadata": {
        "id": "9isf6m4WBfYC"
      }
    },
    {
      "cell_type": "code",
      "execution_count": null,
      "metadata": {
        "colab": {
          "base_uri": "https://localhost:8080/"
        },
        "id": "nEHZJYfIC3LM",
        "outputId": "0c0b2340-68c9-4a95-a72d-6915c896a29a"
      },
      "outputs": [
        {
          "output_type": "stream",
          "name": "stdout",
          "text": [
            "Requirement already satisfied: dash in /usr/local/lib/python3.7/dist-packages (2.4.1)\n",
            "Requirement already satisfied: dash-table==5.0.0 in /usr/local/lib/python3.7/dist-packages (from dash) (5.0.0)\n",
            "Requirement already satisfied: dash-html-components==2.0.0 in /usr/local/lib/python3.7/dist-packages (from dash) (2.0.0)\n",
            "Requirement already satisfied: flask-compress in /usr/local/lib/python3.7/dist-packages (from dash) (1.12)\n",
            "Requirement already satisfied: Flask>=1.0.4 in /usr/local/lib/python3.7/dist-packages (from dash) (1.1.4)\n",
            "Requirement already satisfied: dash-core-components==2.0.0 in /usr/local/lib/python3.7/dist-packages (from dash) (2.0.0)\n",
            "Requirement already satisfied: plotly>=5.0.0 in /usr/local/lib/python3.7/dist-packages (from dash) (5.5.0)\n",
            "Requirement already satisfied: Jinja2<3.0,>=2.10.1 in /usr/local/lib/python3.7/dist-packages (from Flask>=1.0.4->dash) (2.11.3)\n",
            "Requirement already satisfied: itsdangerous<2.0,>=0.24 in /usr/local/lib/python3.7/dist-packages (from Flask>=1.0.4->dash) (1.1.0)\n",
            "Requirement already satisfied: Werkzeug<2.0,>=0.15 in /usr/local/lib/python3.7/dist-packages (from Flask>=1.0.4->dash) (1.0.1)\n",
            "Requirement already satisfied: click<8.0,>=5.1 in /usr/local/lib/python3.7/dist-packages (from Flask>=1.0.4->dash) (7.1.2)\n",
            "Requirement already satisfied: MarkupSafe>=0.23 in /usr/local/lib/python3.7/dist-packages (from Jinja2<3.0,>=2.10.1->Flask>=1.0.4->dash) (2.0.1)\n",
            "Requirement already satisfied: six in /usr/local/lib/python3.7/dist-packages (from plotly>=5.0.0->dash) (1.15.0)\n",
            "Requirement already satisfied: tenacity>=6.2.0 in /usr/local/lib/python3.7/dist-packages (from plotly>=5.0.0->dash) (8.0.1)\n",
            "Requirement already satisfied: brotli in /usr/local/lib/python3.7/dist-packages (from flask-compress->dash) (1.0.9)\n"
          ]
        }
      ],
      "source": [
        "#Download da bilioteca para dashboards\n",
        "!pip install dash "
      ]
    },
    {
      "cell_type": "code",
      "execution_count": null,
      "metadata": {
        "colab": {
          "base_uri": "https://localhost:8080/",
          "height": 542
        },
        "id": "gvVBrfvZW3Fw",
        "outputId": "6b2ccdc8-75cf-49cb-ae9b-76f969c72d94"
      },
      "outputs": [
        {
          "output_type": "display_data",
          "data": {
            "text/html": [
              "<html>\n",
              "<head><meta charset=\"utf-8\" /></head>\n",
              "<body>\n",
              "    <div>            <script src=\"https://cdnjs.cloudflare.com/ajax/libs/mathjax/2.7.5/MathJax.js?config=TeX-AMS-MML_SVG\"></script><script type=\"text/javascript\">if (window.MathJax) {MathJax.Hub.Config({SVG: {font: \"STIX-Web\"}});}</script>                <script type=\"text/javascript\">window.PlotlyConfig = {MathJaxConfig: 'local'};</script>\n",
              "        <script src=\"https://cdn.plot.ly/plotly-2.8.3.min.js\"></script>                <div id=\"6d2750a3-4c28-48b8-8c80-2684c9654646\" class=\"plotly-graph-div\" style=\"height:525px; width:100%;\"></div>            <script type=\"text/javascript\">                                    window.PLOTLYENV=window.PLOTLYENV || {};                                    if (document.getElementById(\"6d2750a3-4c28-48b8-8c80-2684c9654646\")) {                    Plotly.newPlot(                        \"6d2750a3-4c28-48b8-8c80-2684c9654646\",                        [{\"hovertemplate\":\"PER\\u00cdODO=%{x}<br>VL_QUOTA=%{y}<extra></extra>\",\"legendgroup\":\"\",\"line\":{\"color\":\"#636efa\",\"dash\":\"solid\"},\"marker\":{\"symbol\":\"circle\"},\"mode\":\"lines\",\"name\":\"\",\"orientation\":\"v\",\"showlegend\":false,\"x\":[\"abr/21\",\"mai/21\",\"jun/21\",\"jul/21\",\"ago/21\",\"set/21\",\"out/21\",\"nov/21\",\"dez/21\",\"jan/22\",\"fev/22\",\"mar/22\",\"abr/22\",\"mai/22\"],\"xaxis\":\"x\",\"y\":[17096.9817209856,16994.360910863106,16752.201073647357,16464.90209773119,16288.259255522742,16410.174184546508,16028.168605060626,15899.696192196432,15607.223712721232,16299.397184217747,16486.698787625362,15882.722935388898,15682.498124898648,15501.070142851755],\"yaxis\":\"y\",\"type\":\"scatter\"}],                        {\"template\":{\"data\":{\"pie\":[{\"automargin\":true,\"type\":\"pie\"}],\"scatter3d\":[{\"line\":{\"width\":3},\"marker\":{\"size\":9},\"type\":\"scatter3d\"}],\"scattergeo\":[{\"line\":{\"width\":3},\"marker\":{\"size\":9},\"type\":\"scattergeo\"}],\"scattergl\":[{\"line\":{\"width\":3},\"marker\":{\"size\":9},\"type\":\"scattergl\"}],\"scatterpolargl\":[{\"line\":{\"width\":3},\"marker\":{\"size\":9},\"type\":\"scatterpolargl\"}],\"scatterpolar\":[{\"line\":{\"width\":3},\"marker\":{\"size\":9},\"type\":\"scatterpolar\"}],\"scatter\":[{\"line\":{\"width\":3},\"marker\":{\"size\":9},\"type\":\"scatter\"}],\"scatterternary\":[{\"line\":{\"width\":3},\"marker\":{\"size\":9},\"type\":\"scatterternary\"}],\"table\":[{\"cells\":{\"height\":30},\"header\":{\"height\":36},\"type\":\"table\"}]},\"layout\":{\"font\":{\"size\":18},\"xaxis\":{\"title\":{\"standoff\":15}},\"yaxis\":{\"title\":{\"standoff\":15}}}},\"xaxis\":{\"anchor\":\"y\",\"domain\":[0.0,1.0],\"title\":{\"text\":\"PER\\u00cdODO\"}},\"yaxis\":{\"anchor\":\"x\",\"domain\":[0.0,1.0],\"title\":{\"text\":\"VL_QUOTA\"}},\"legend\":{\"tracegroupgap\":0},\"margin\":{\"t\":60},\"title\":{\"text\":\"Evolu\\u00e7\\u00e3o m\\u00e9dia mensal do valor das quotas\"}},                        {\"responsive\": true}                    ).then(function(){\n",
              "                            \n",
              "var gd = document.getElementById('6d2750a3-4c28-48b8-8c80-2684c9654646');\n",
              "var x = new MutationObserver(function (mutations, observer) {{\n",
              "        var display = window.getComputedStyle(gd).display;\n",
              "        if (!display || display === 'none') {{\n",
              "            console.log([gd, 'removed!']);\n",
              "            Plotly.purge(gd);\n",
              "            observer.disconnect();\n",
              "        }}\n",
              "}});\n",
              "\n",
              "// Listen for the removal of the full notebook cells\n",
              "var notebookContainer = gd.closest('#notebook-container');\n",
              "if (notebookContainer) {{\n",
              "    x.observe(notebookContainer, {childList: true});\n",
              "}}\n",
              "\n",
              "// Listen for the clearing of the current output cell\n",
              "var outputEl = gd.closest('.output');\n",
              "if (outputEl) {{\n",
              "    x.observe(outputEl, {childList: true});\n",
              "}}\n",
              "\n",
              "                        })                };                            </script>        </div>\n",
              "</body>\n",
              "</html>"
            ]
          },
          "metadata": {}
        }
      ],
      "source": [
        "#Plotando primeiro gráfico\n",
        "import plotly.express as px\n",
        "\n",
        "fig = px.line(df_por_periodo, x=\"PERÍODO\", y=\"VL_QUOTA\")\n",
        "fig.update_layout(template=\"presentation\",\n",
        "title_text=\"Evolução média mensal do valor das quotas\")\n",
        "fig.show()"
      ]
    },
    {
      "cell_type": "code",
      "execution_count": null,
      "metadata": {
        "colab": {
          "base_uri": "https://localhost:8080/",
          "height": 542
        },
        "id": "QUJq-6N4EP7i",
        "outputId": "e4fd1b3d-6730-460f-cc9f-febf1c88e6da"
      },
      "outputs": [
        {
          "output_type": "display_data",
          "data": {
            "text/html": [
              "<html>\n",
              "<head><meta charset=\"utf-8\" /></head>\n",
              "<body>\n",
              "    <div>            <script src=\"https://cdnjs.cloudflare.com/ajax/libs/mathjax/2.7.5/MathJax.js?config=TeX-AMS-MML_SVG\"></script><script type=\"text/javascript\">if (window.MathJax) {MathJax.Hub.Config({SVG: {font: \"STIX-Web\"}});}</script>                <script type=\"text/javascript\">window.PlotlyConfig = {MathJaxConfig: 'local'};</script>\n",
              "        <script src=\"https://cdn.plot.ly/plotly-2.8.3.min.js\"></script>                <div id=\"c6371baf-b67c-463c-8f3d-15f68c051af7\" class=\"plotly-graph-div\" style=\"height:525px; width:100%;\"></div>            <script type=\"text/javascript\">                                    window.PLOTLYENV=window.PLOTLYENV || {};                                    if (document.getElementById(\"c6371baf-b67c-463c-8f3d-15f68c051af7\")) {                    Plotly.newPlot(                        \"c6371baf-b67c-463c-8f3d-15f68c051af7\",                        [{\"hovertemplate\":\"PER\\u00cdODO=%{x}<br>VL_PATRIM_LIQ=%{y}<extra></extra>\",\"legendgroup\":\"\",\"line\":{\"color\":\"#636efa\",\"dash\":\"solid\"},\"marker\":{\"symbol\":\"circle\"},\"mode\":\"lines\",\"name\":\"\",\"orientation\":\"v\",\"showlegend\":false,\"x\":[\"abr/21\",\"mai/21\",\"jun/21\",\"jul/21\",\"ago/21\",\"set/21\",\"out/21\",\"nov/21\",\"dez/21\",\"jan/22\",\"fev/22\",\"mar/22\",\"abr/22\",\"mai/22\"],\"xaxis\":\"x\",\"y\":[442158988.3925744,439241009.27784777,440016134.1089913,439607094.21606743,434905248.343056,431509128.2989814,427212930.03652424,421029017.1759518,415346348.89147615,412978502.6898354,415309796.40090746,415958229.6675725,418116611.98411626,412134109.86362463],\"yaxis\":\"y\",\"type\":\"scatter\"}],                        {\"template\":{\"data\":{\"pie\":[{\"automargin\":true,\"type\":\"pie\"}],\"scatter3d\":[{\"line\":{\"width\":3},\"marker\":{\"size\":9},\"type\":\"scatter3d\"}],\"scattergeo\":[{\"line\":{\"width\":3},\"marker\":{\"size\":9},\"type\":\"scattergeo\"}],\"scattergl\":[{\"line\":{\"width\":3},\"marker\":{\"size\":9},\"type\":\"scattergl\"}],\"scatterpolargl\":[{\"line\":{\"width\":3},\"marker\":{\"size\":9},\"type\":\"scatterpolargl\"}],\"scatterpolar\":[{\"line\":{\"width\":3},\"marker\":{\"size\":9},\"type\":\"scatterpolar\"}],\"scatter\":[{\"line\":{\"width\":3},\"marker\":{\"size\":9},\"type\":\"scatter\"}],\"scatterternary\":[{\"line\":{\"width\":3},\"marker\":{\"size\":9},\"type\":\"scatterternary\"}],\"table\":[{\"cells\":{\"height\":30},\"header\":{\"height\":36},\"type\":\"table\"}]},\"layout\":{\"font\":{\"size\":18},\"xaxis\":{\"title\":{\"standoff\":15}},\"yaxis\":{\"title\":{\"standoff\":15}}}},\"xaxis\":{\"anchor\":\"y\",\"domain\":[0.0,1.0],\"title\":{\"text\":\"PER\\u00cdODO\"}},\"yaxis\":{\"anchor\":\"x\",\"domain\":[0.0,1.0],\"title\":{\"text\":\"VL_PATRIM_LIQ\"}},\"legend\":{\"tracegroupgap\":0},\"margin\":{\"t\":60},\"title\":{\"text\":\"Evolu\\u00e7\\u00e3o m\\u00e9dia mensal do patrim\\u00f4nio l\\u00edquido\"}},                        {\"responsive\": true}                    ).then(function(){\n",
              "                            \n",
              "var gd = document.getElementById('c6371baf-b67c-463c-8f3d-15f68c051af7');\n",
              "var x = new MutationObserver(function (mutations, observer) {{\n",
              "        var display = window.getComputedStyle(gd).display;\n",
              "        if (!display || display === 'none') {{\n",
              "            console.log([gd, 'removed!']);\n",
              "            Plotly.purge(gd);\n",
              "            observer.disconnect();\n",
              "        }}\n",
              "}});\n",
              "\n",
              "// Listen for the removal of the full notebook cells\n",
              "var notebookContainer = gd.closest('#notebook-container');\n",
              "if (notebookContainer) {{\n",
              "    x.observe(notebookContainer, {childList: true});\n",
              "}}\n",
              "\n",
              "// Listen for the clearing of the current output cell\n",
              "var outputEl = gd.closest('.output');\n",
              "if (outputEl) {{\n",
              "    x.observe(outputEl, {childList: true});\n",
              "}}\n",
              "\n",
              "                        })                };                            </script>        </div>\n",
              "</body>\n",
              "</html>"
            ]
          },
          "metadata": {}
        }
      ],
      "source": [
        "#Plotando segundo gráfico\n",
        "import plotly.express as px\n",
        "\n",
        "fig = px.line(df_por_periodo, x=\"PERÍODO\", y=\"VL_PATRIM_LIQ\")\n",
        "fig.update_layout(template=\"presentation\",\n",
        "title_text=\"Evolução média mensal do patrimônio líquido\")\n",
        "fig.show()"
      ]
    },
    {
      "cell_type": "code",
      "execution_count": null,
      "metadata": {
        "colab": {
          "base_uri": "https://localhost:8080/",
          "height": 542
        },
        "id": "MftNPzLIIKap",
        "outputId": "69b20a52-a64e-4a96-9648-0339700f2a47"
      },
      "outputs": [
        {
          "output_type": "display_data",
          "data": {
            "text/html": [
              "<html>\n",
              "<head><meta charset=\"utf-8\" /></head>\n",
              "<body>\n",
              "    <div>            <script src=\"https://cdnjs.cloudflare.com/ajax/libs/mathjax/2.7.5/MathJax.js?config=TeX-AMS-MML_SVG\"></script><script type=\"text/javascript\">if (window.MathJax) {MathJax.Hub.Config({SVG: {font: \"STIX-Web\"}});}</script>                <script type=\"text/javascript\">window.PlotlyConfig = {MathJaxConfig: 'local'};</script>\n",
              "        <script src=\"https://cdn.plot.ly/plotly-2.8.3.min.js\"></script>                <div id=\"d21e6b8e-65fa-4ec1-ad26-77085d83cd07\" class=\"plotly-graph-div\" style=\"height:525px; width:100%;\"></div>            <script type=\"text/javascript\">                                    window.PLOTLYENV=window.PLOTLYENV || {};                                    if (document.getElementById(\"d21e6b8e-65fa-4ec1-ad26-77085d83cd07\")) {                    Plotly.newPlot(                        \"d21e6b8e-65fa-4ec1-ad26-77085d83cd07\",                        [{\"hovertemplate\":\"PER\\u00cdODO=%{x}<br>RENDIMENTO=%{y}<extra></extra>\",\"legendgroup\":\"\",\"line\":{\"color\":\"#636efa\",\"dash\":\"solid\"},\"marker\":{\"symbol\":\"circle\"},\"mode\":\"lines\",\"name\":\"\",\"orientation\":\"v\",\"showlegend\":false,\"x\":[\"abr/21\",\"abr/21\",\"abr/21\",\"abr/21\",\"abr/21\",\"abr/21\",\"abr/21\",\"abr/21\",\"abr/21\",\"abr/21\",\"abr/21\",\"abr/21\",\"abr/21\",\"abr/21\",\"abr/21\",\"abr/21\",\"abr/21\",\"mai/21\",\"mai/21\",\"mai/21\",\"mai/21\",\"mai/21\",\"mai/21\",\"mai/21\",\"mai/21\",\"mai/21\",\"mai/21\",\"mai/21\",\"mai/21\",\"mai/21\",\"mai/21\",\"mai/21\",\"mai/21\",\"mai/21\",\"mai/21\",\"mai/21\",\"mai/21\",\"jun/21\",\"jun/21\",\"jun/21\",\"jun/21\",\"jun/21\",\"jun/21\",\"jun/21\",\"jun/21\",\"jun/21\",\"jun/21\",\"jun/21\",\"jun/21\",\"jun/21\",\"jun/21\",\"jun/21\",\"jun/21\",\"jun/21\",\"jun/21\",\"jun/21\",\"jun/21\",\"jul/21\",\"jul/21\",\"jul/21\",\"jul/21\",\"jul/21\",\"jul/21\",\"jul/21\",\"jul/21\",\"jul/21\",\"jul/21\",\"jul/21\",\"jul/21\",\"jul/21\",\"jul/21\",\"jul/21\",\"jul/21\",\"jul/21\",\"jul/21\",\"jul/21\",\"jul/21\",\"jul/21\",\"ago/21\",\"ago/21\",\"ago/21\",\"ago/21\",\"ago/21\",\"ago/21\",\"ago/21\",\"ago/21\",\"ago/21\",\"ago/21\",\"ago/21\",\"ago/21\",\"ago/21\",\"ago/21\",\"ago/21\",\"ago/21\",\"ago/21\",\"ago/21\",\"ago/21\",\"ago/21\",\"ago/21\",\"set/21\",\"set/21\",\"set/21\",\"set/21\",\"set/21\",\"set/21\",\"set/21\",\"set/21\",\"set/21\",\"set/21\",\"set/21\",\"set/21\",\"set/21\",\"set/21\",\"set/21\",\"set/21\",\"set/21\",\"set/21\",\"set/21\",\"set/21\",\"out/21\",\"out/21\",\"out/21\",\"out/21\",\"out/21\",\"out/21\",\"out/21\",\"out/21\",\"out/21\",\"out/21\",\"out/21\",\"out/21\",\"out/21\",\"out/21\",\"out/21\",\"out/21\",\"out/21\",\"out/21\",\"out/21\",\"nov/21\",\"nov/21\",\"nov/21\",\"nov/21\",\"nov/21\",\"nov/21\",\"nov/21\",\"nov/21\",\"nov/21\",\"nov/21\",\"nov/21\",\"nov/21\",\"nov/21\",\"nov/21\",\"nov/21\",\"nov/21\",\"nov/21\",\"nov/21\",\"nov/21\",\"dez/21\",\"dez/21\",\"dez/21\",\"dez/21\",\"dez/21\",\"dez/21\",\"dez/21\",\"dez/21\",\"dez/21\",\"dez/21\",\"dez/21\",\"dez/21\",\"dez/21\",\"dez/21\",\"dez/21\",\"dez/21\",\"dez/21\",\"dez/21\",\"dez/21\",\"dez/21\",\"dez/21\",\"dez/21\",\"jan/22\",\"jan/22\",\"jan/22\",\"jan/22\",\"jan/22\",\"jan/22\",\"jan/22\",\"jan/22\",\"jan/22\",\"jan/22\",\"jan/22\",\"jan/22\",\"jan/22\",\"jan/22\",\"jan/22\",\"jan/22\",\"jan/22\",\"jan/22\",\"jan/22\",\"jan/22\",\"fev/22\",\"fev/22\",\"fev/22\",\"fev/22\",\"fev/22\",\"fev/22\",\"fev/22\",\"fev/22\",\"fev/22\",\"fev/22\",\"fev/22\",\"fev/22\",\"fev/22\",\"fev/22\",\"fev/22\",\"fev/22\",\"fev/22\",\"fev/22\",\"mar/22\",\"mar/22\",\"mar/22\",\"mar/22\",\"mar/22\",\"mar/22\",\"mar/22\",\"mar/22\",\"mar/22\",\"mar/22\",\"mar/22\",\"mar/22\",\"mar/22\",\"mar/22\",\"mar/22\",\"mar/22\",\"mar/22\",\"mar/22\",\"mar/22\",\"mar/22\",\"mar/22\",\"abr/22\",\"abr/22\",\"abr/22\",\"abr/22\",\"abr/22\",\"abr/22\",\"abr/22\",\"abr/22\",\"abr/22\",\"abr/22\",\"abr/22\",\"abr/22\",\"abr/22\",\"abr/22\",\"abr/22\",\"abr/22\",\"abr/22\",\"abr/22\",\"mai/22\",\"mai/22\",\"mai/22\",\"mai/22\",\"mai/22\",\"mai/22\",\"mai/22\",\"mai/22\",\"mai/22\",\"mai/22\",\"mai/22\",\"mai/22\",\"mai/22\"],\"xaxis\":\"x\",\"y\":[0.0,-5.6190715858574007e-05,-6.617058899449483e-05,-9.129805529721617e-06,-2.8099052569472403e-06,4.24895719976022e-05,7.392485641276527e-06,4.9891952710959576e-05,4.740380156216776e-05,4.163286604742707e-05,5.52732349365205e-05,8.78202356311703e-06,3.0528160169199386e-05,4.090388934309078e-05,2.8931062074141454e-06,1.8693862948443892e-05,4.0706609246677555e-05,0.00011574485635193749,7.449349430290548e-05,3.8055135782575376e-05,2.215549658208996e-05,8.184374291379303e-05,6.414229831694357e-05,6.465722167641265e-05,6.62726681730812e-05,7.162103578688136e-05,0.0001016765602456576,4.008299093136505e-05,5.231763450935455e-05,6.247872239494944e-05,4.737867318143861e-05,6.642918442250146e-05,5.3206697430220494e-05,5.2590833248819955e-05,5.231871861198864e-05,4.13475500921981e-05,5.333539133827376e-05,6.466211449601754e-05,4.915042976069276e-05,6.321550729142268e-05,5.174467578110308e-05,5.31625126297031e-05,4.2885032024313757e-05,5.389487461244764e-05,5.553944484525027e-05,4.685269619357939e-05,5.0238181377072266e-05,6.666135894702436e-05,0.00010267007521769445,9.512267088677226e-05,0.00010112393358159213,0.00010050901714455284,9.060157745173027e-05,7.673463026515944e-05,6.849784104375835e-05,9.069181168445943e-05,7.704199362386168e-05,0.0001130854007055571,7.67856205998442e-05,9.504733122822708e-05,9.078090954246251e-05,0.00011007514849044248,8.816235513701172e-05,8.448924771505392e-05,6.618495792626986e-05,7.629836371628161e-05,6.976543688952782e-05,8.168569284749449e-05,0.00010094039021056157,9.571915738199678e-05,0.00013592161698073663,0.00012988247332378365,0.00012354751758863065,0.00017126613275542812,0.0001154900538674156,0.00010324626411821759,7.820907423086359e-05,8.637063629332572e-05,8.40164528091328e-05,9.004332145281709e-05,7.929057763060017e-05,9.510204719646646e-05,0.00012880236701438792,0.0001333582761491249,0.00012845137374219758,0.00013552505594435107,0.0001204421008648043,0.0001314052357836515,0.00014537632731214818,0.00014151361930356038,0.00013407257063625724,0.00010315333961119764,0.00013007947971792463,0.00015974508185322354,0.00013576303001982748,0.00013752409431738206,0.0001344776666092863,0.00010866860458871027,0.00012813064311370173,0.0001353868845281457,0.00019289018527208482,0.00012495369159217244,0.00017195158251487772,0.0001419934061382308,8.597197214817454e-05,0.00011655961498684162,0.0001485831314600106,0.00013310906653279668,0.00013694217950048558,0.00010443359778193053,0.00014098275326209815,0.00012964782199055813,0.0001262294828515419,0.00012674468220218575,0.00015775393282181744,0.0001656285445836425,0.00016294665522344334,0.00015445515348624909,0.00017615373081985927,0.00016664583554934403,0.000208800801606014,0.00029886536132215085,0.00019750329783066263,0.0001807872614152538,0.0001708878027742814,0.00016682330720033952,0.00017159240907072695,0.00017356134694645694,0.00014541941121641385,0.0001770275940786803,0.00016611747535035903,0.00017904751533350652,0.00018648344255150484,0.00016695004149552874,0.0001406052790741473,0.00017015990325454334,0.00015740513608595636,0.00022752900934325625,0.0002249628676702845,0.00021275283765184784,0.0002051211898921446,0.00021328750043851045,0.0001998204610779545,0.00021519993823281692,0.0002014535637971143,0.00021945540001627417,0.00021546396019656516,0.0002146160091613165,0.00020271722144999473,0.0002047629870053941,0.00020642560182685798,0.0002060198126933957,0.000200726225042918,0.00018794235220671117,0.00020666981936024335,0.00020258874018627934,0.00019228635594101774,0.00020420161044328117,0.0002079633918963326,0.00021228068296347881,0.00019589408088660384,0.0002102274268615705,0.00021077953152325742,0.0002722891784664986,0.0002651188965450955,0.00025268484278886434,0.00024867453318507833,0.0002685355980001455,0.0002667796784717569,0.0002923777219951228,0.00030422123042253714,0.00027086230685205063,0.000263085585424538,0.00026511591291694577,0.0002681197956534522,0.00025875366729811083,0.0002682941937221349,0.00026086312564680813,0.00025766852154971977,0.0003035889470769511,0.00029914802619895035,0.00032313193423374873,0.00033228497722648286,0.0003827822598443994,0.00033025604967937543,0.00033113078476198967,0.0003384712141653879,0.0003250754341950494,0.000318581657881359,0.00031900850917073245,0.00031364385903809067,0.00030444945542973146,0.00028710546437958905,0.0002911981076567031,0.0003181090634050152,0.0003008367892279146,0.0002910534718750672,0.00028932296014081696,0.0002745328213970992,0.00028227535336950766,0.00028165987017176914,0.0002694816841487988,0.0003289546031937142,0.0003344953459880773,0.00032575527602046554,0.00033127116891981575,0.00033117995188834546,0.0003359770383501179,0.00032365229584097033,0.00031722197765797505,0.00031773989202598985,0.0003268491019359499,0.00034603299072340845,0.0003962859713557578,0.0003725198137554735,0.00035364638767208865,0.00034874031574762764,0.00034468656724015223,0.00036089863760767734,0.00036232363179668323,0.00033564407418175754,0.0003404788588469185,0.0003316778251310622,0.00032884139966675885,0.0003328584636071269,0.00033487403618322854,0.00028508134825401305,0.0003139867471872352,0.0003465810451682907,0.00036910361344255686,0.00037336011439518277,0.00036447541638304074,0.00036402121929368495,0.0003717556782909585,0.0003431713242231352,0.00034634672180753077,0.000348519274958192,0.00036227619893036326,0.0003403820313181183,0.0003371242490872033,0.00035238549145003223,0.00034091964600922107,0.0003001555801696048,0.0002839466322310489,0.00044758810999796854,0.00031254349293169213,0.0003042577302588781,0.00030743331581853985,0.00025435890671714743,0.0002923778552824417,0.0002882632067970804,0.00035094308884657196,0.00033254313960461707,0.00033849429523271984,0.0003404059816970246,0.00036077374013752315,0.00037095778242247717,0.000359616650399101,0.0003686445925867162,0.0003583863381174888,0.0004058997381230519,0.0004200531016575411,0.0004269141952070174,0.0004192628629741073,0.0004224586951698411,0.0004219195543595528,0.0004131822816900006,0.00042536157393717716,0.00042317067664629504],\"yaxis\":\"y\",\"type\":\"scatter\"}],                        {\"template\":{\"data\":{\"pie\":[{\"automargin\":true,\"type\":\"pie\"}],\"scatter3d\":[{\"line\":{\"width\":3},\"marker\":{\"size\":9},\"type\":\"scatter3d\"}],\"scattergeo\":[{\"line\":{\"width\":3},\"marker\":{\"size\":9},\"type\":\"scattergeo\"}],\"scattergl\":[{\"line\":{\"width\":3},\"marker\":{\"size\":9},\"type\":\"scattergl\"}],\"scatterpolargl\":[{\"line\":{\"width\":3},\"marker\":{\"size\":9},\"type\":\"scatterpolargl\"}],\"scatterpolar\":[{\"line\":{\"width\":3},\"marker\":{\"size\":9},\"type\":\"scatterpolar\"}],\"scatter\":[{\"line\":{\"width\":3},\"marker\":{\"size\":9},\"type\":\"scatter\"}],\"scatterternary\":[{\"line\":{\"width\":3},\"marker\":{\"size\":9},\"type\":\"scatterternary\"}],\"table\":[{\"cells\":{\"height\":30},\"header\":{\"height\":36},\"type\":\"table\"}]},\"layout\":{\"font\":{\"size\":18},\"xaxis\":{\"title\":{\"standoff\":15}},\"yaxis\":{\"title\":{\"standoff\":15}}}},\"xaxis\":{\"anchor\":\"y\",\"domain\":[0.0,1.0],\"title\":{\"text\":\"PER\\u00cdODO\"}},\"yaxis\":{\"anchor\":\"x\",\"domain\":[0.0,1.0],\"title\":{\"text\":\"RENDIMENTO\"}},\"legend\":{\"tracegroupgap\":0},\"margin\":{\"t\":60},\"title\":{\"text\":\"Evolu\\u00e7\\u00e3o do rendimento mensal do patrim\\u00f4nio l\\u00edquido para uma PJ\"}},                        {\"responsive\": true}                    ).then(function(){\n",
              "                            \n",
              "var gd = document.getElementById('d21e6b8e-65fa-4ec1-ad26-77085d83cd07');\n",
              "var x = new MutationObserver(function (mutations, observer) {{\n",
              "        var display = window.getComputedStyle(gd).display;\n",
              "        if (!display || display === 'none') {{\n",
              "            console.log([gd, 'removed!']);\n",
              "            Plotly.purge(gd);\n",
              "            observer.disconnect();\n",
              "        }}\n",
              "}});\n",
              "\n",
              "// Listen for the removal of the full notebook cells\n",
              "var notebookContainer = gd.closest('#notebook-container');\n",
              "if (notebookContainer) {{\n",
              "    x.observe(notebookContainer, {childList: true});\n",
              "}}\n",
              "\n",
              "// Listen for the clearing of the current output cell\n",
              "var outputEl = gd.closest('.output');\n",
              "if (outputEl) {{\n",
              "    x.observe(outputEl, {childList: true});\n",
              "}}\n",
              "\n",
              "                        })                };                            </script>        </div>\n",
              "</body>\n",
              "</html>"
            ]
          },
          "metadata": {}
        }
      ],
      "source": [
        "#Plotando terceiro gráfico\n",
        "import plotly.express as px\n",
        "\n",
        "fig = px.line(rendimento_sem_outlier, x=\"PERÍODO\", y=\"RENDIMENTO\")\n",
        "fig.update_layout(template= 'presentation',\n",
        "title_text=\"Evolução do rendimento mensal do patrimônio líquido para uma PJ\")\n",
        "fig.show()"
      ]
    }
  ],
  "metadata": {
    "colab": {
      "collapsed_sections": [],
      "name": "DesafioDados.ipynb",
      "provenance": [],
      "authorship_tag": "ABX9TyOEDbhGrZWmkCjtUmDB6ad1"
    },
    "kernelspec": {
      "display_name": "Python 3",
      "name": "python3"
    },
    "language_info": {
      "name": "python"
    }
  },
  "nbformat": 4,
  "nbformat_minor": 0
}