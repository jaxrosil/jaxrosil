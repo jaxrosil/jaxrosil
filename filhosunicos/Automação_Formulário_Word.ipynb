{
  "nbformat": 4,
  "nbformat_minor": 0,
  "metadata": {
    "colab": {
      "provenance": []
    },
    "kernelspec": {
      "name": "python3",
      "display_name": "Python 3"
    },
    "language_info": {
      "name": "python"
    }
  },
  "cells": [
    {
      "cell_type": "code",
      "source": [
        "!pip install python-docx"
      ],
      "metadata": {
        "colab": {
          "base_uri": "https://localhost:8080/"
        },
        "id": "_a20WhC31VDs",
        "outputId": "7076bdfa-3f39-4579-9888-63ba39a8ba82"
      },
      "execution_count": 22,
      "outputs": [
        {
          "output_type": "stream",
          "name": "stdout",
          "text": [
            "Looking in indexes: https://pypi.org/simple, https://us-python.pkg.dev/colab-wheels/public/simple/\n",
            "Requirement already satisfied: python-docx in /usr/local/lib/python3.10/dist-packages (0.8.11)\n",
            "Requirement already satisfied: lxml>=2.3.2 in /usr/local/lib/python3.10/dist-packages (from python-docx) (4.9.2)\n"
          ]
        }
      ]
    },
    {
      "cell_type": "code",
      "execution_count": 23,
      "metadata": {
        "id": "JXSGOnPcynhv"
      },
      "outputs": [],
      "source": [
        "import pandas as pd"
      ]
    },
    {
      "cell_type": "code",
      "source": [
        "from docx import Document"
      ],
      "metadata": {
        "id": "YG-cn_6D1s6c"
      },
      "execution_count": 24,
      "outputs": []
    },
    {
      "cell_type": "code",
      "source": [
        "df = pd.read_excel(\"/content/2º Fórum - Estrangeiros.xlsx\")"
      ],
      "metadata": {
        "id": "9bNduTaiNi4m"
      },
      "execution_count": 29,
      "outputs": []
    },
    {
      "cell_type": "code",
      "source": [
        "for row in range(0, 27):\n",
        "  documento = Document(\"/content/2º Spcine Forum - Linus Invitation Letter.docx\")\n",
        "  referencias = {\n",
        "      \"NNN\": df.iloc[row, 0],\n",
        "      \"DDD\": df.iloc[row, 1],\n",
        "      \"TTT\": df.iloc[row, 2],\n",
        "      \"EEE\": df.iloc[row, 3]\n",
        "  }\n",
        "  for paragrafo in documento.paragraphs:\n",
        "    for codigo in referencias:\n",
        "      paragrafo.text = paragrafo.text.replace(codigo, referencias[codigo])\n",
        "  documento.save(f\"carta-editada-{df.iloc[row, 0]}.docx\")"
      ],
      "metadata": {
        "id": "YuW75RBWMp8C"
      },
      "execution_count": 30,
      "outputs": []
    }
  ]
}
